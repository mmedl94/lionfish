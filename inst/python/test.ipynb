{
 "cells": [
  {
   "cell_type": "code",
   "execution_count": 43,
   "metadata": {},
   "outputs": [
    {
     "data": {
      "text/plain": [
       "[0.12156862745098039, 0.4666666666666667, 0.7058823529411765, 1]"
      ]
     },
     "execution_count": 43,
     "metadata": {},
     "output_type": "execute_result"
    }
   ],
   "source": [
    "\n",
    "import matplotlib\n",
    "\n",
    "colors = matplotlib.colormaps['tab10'].colors\n",
    "\n",
    "color = list(colors[0])\n",
    "color.append(1)\n",
    "color"
   ]
  },
  {
   "cell_type": "code",
   "execution_count": 67,
   "metadata": {},
   "outputs": [
    {
     "data": {
      "text/plain": [
       "array([[0.12156863, 0.46666667, 0.70588235, 1.        ],\n",
       "       [0.12156863, 0.46666667, 0.70588235, 1.        ],\n",
       "       [0.12156863, 0.46666667, 0.70588235, 1.        ],\n",
       "       [0.12156863, 0.46666667, 0.70588235, 1.        ],\n",
       "       [0.12156863, 0.46666667, 0.70588235, 1.        ],\n",
       "       [0.12156863, 0.46666667, 0.70588235, 1.        ],\n",
       "       [0.12156863, 0.46666667, 0.70588235, 1.        ],\n",
       "       [0.12156863, 0.46666667, 0.70588235, 1.        ],\n",
       "       [0.12156863, 0.46666667, 0.70588235, 1.        ],\n",
       "       [0.12156863, 0.46666667, 0.70588235, 1.        ]])"
      ]
     },
     "execution_count": 67,
     "metadata": {},
     "output_type": "execute_result"
    }
   ],
   "source": [
    "np.repeat(np.array(color)[:,np.newaxis],10, axis=1).T"
   ]
  }
 ],
 "metadata": {
  "kernelspec": {
   "display_name": "optopt",
   "language": "python",
   "name": "python3"
  },
  "language_info": {
   "codemirror_mode": {
    "name": "ipython",
    "version": 3
   },
   "file_extension": ".py",
   "mimetype": "text/x-python",
   "name": "python",
   "nbconvert_exporter": "python",
   "pygments_lexer": "ipython3",
   "version": "3.11.8"
  }
 },
 "nbformat": 4,
 "nbformat_minor": 2
}
